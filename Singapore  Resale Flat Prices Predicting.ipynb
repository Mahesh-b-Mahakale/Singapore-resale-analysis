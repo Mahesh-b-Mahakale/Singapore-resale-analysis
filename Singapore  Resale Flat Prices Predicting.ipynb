{
 "cells": [
  {
   "cell_type": "code",
   "execution_count": 37,
   "id": "0cf270c1",
   "metadata": {},
   "outputs": [],
   "source": [
    "import pandas as pd"
   ]
  },
  {
   "cell_type": "code",
   "execution_count": 38,
   "id": "fa787d4f",
   "metadata": {},
   "outputs": [
    {
     "name": "stdout",
     "output_type": "stream",
     "text": [
      "read csv file\n"
     ]
    }
   ],
   "source": [
    "print(\"read csv file\")"
   ]
  },
  {
   "cell_type": "code",
   "execution_count": 39,
   "id": "0ffebb34",
   "metadata": {},
   "outputs": [],
   "source": [
    "# Importing necessary libraries \n",
    "import pandas as pd\n",
    "import numpy as np\n",
    "import seaborn as sns\n",
    "import matplotlib.pyplot as plt\n",
    "import os\n",
    "for dirname, _, filenames in os.walk('/kaggle/input'):\n",
    "    for filename in filenames:\n",
    "        print(os.path.join(dirname, filename))"
   ]
  },
  {
   "cell_type": "code",
   "execution_count": 40,
   "id": "c6fa5692",
   "metadata": {},
   "outputs": [
    {
     "data": {
      "text/html": [
       "<div>\n",
       "<style scoped>\n",
       "    .dataframe tbody tr th:only-of-type {\n",
       "        vertical-align: middle;\n",
       "    }\n",
       "\n",
       "    .dataframe tbody tr th {\n",
       "        vertical-align: top;\n",
       "    }\n",
       "\n",
       "    .dataframe thead th {\n",
       "        text-align: right;\n",
       "    }\n",
       "</style>\n",
       "<table border=\"1\" class=\"dataframe\">\n",
       "  <thead>\n",
       "    <tr style=\"text-align: right;\">\n",
       "      <th></th>\n",
       "      <th>month</th>\n",
       "      <th>town</th>\n",
       "      <th>flat_type</th>\n",
       "      <th>block</th>\n",
       "      <th>street_name</th>\n",
       "      <th>storey_range</th>\n",
       "      <th>floor_area_sqm</th>\n",
       "      <th>flat_model</th>\n",
       "      <th>lease_commence_date</th>\n",
       "      <th>remaining_lease</th>\n",
       "      <th>resale_price</th>\n",
       "    </tr>\n",
       "  </thead>\n",
       "  <tbody>\n",
       "    <tr>\n",
       "      <th>0</th>\n",
       "      <td>2017-01</td>\n",
       "      <td>ANG MO KIO</td>\n",
       "      <td>2 ROOM</td>\n",
       "      <td>406</td>\n",
       "      <td>ANG MO KIO AVE 10</td>\n",
       "      <td>10 TO 12</td>\n",
       "      <td>44.0</td>\n",
       "      <td>Improved</td>\n",
       "      <td>1979</td>\n",
       "      <td>61 years 04 months</td>\n",
       "      <td>232000.0</td>\n",
       "    </tr>\n",
       "    <tr>\n",
       "      <th>1</th>\n",
       "      <td>2017-01</td>\n",
       "      <td>ANG MO KIO</td>\n",
       "      <td>3 ROOM</td>\n",
       "      <td>108</td>\n",
       "      <td>ANG MO KIO AVE 4</td>\n",
       "      <td>01 TO 03</td>\n",
       "      <td>67.0</td>\n",
       "      <td>New Generation</td>\n",
       "      <td>1978</td>\n",
       "      <td>60 years 07 months</td>\n",
       "      <td>250000.0</td>\n",
       "    </tr>\n",
       "    <tr>\n",
       "      <th>2</th>\n",
       "      <td>2017-01</td>\n",
       "      <td>ANG MO KIO</td>\n",
       "      <td>3 ROOM</td>\n",
       "      <td>602</td>\n",
       "      <td>ANG MO KIO AVE 5</td>\n",
       "      <td>01 TO 03</td>\n",
       "      <td>67.0</td>\n",
       "      <td>New Generation</td>\n",
       "      <td>1980</td>\n",
       "      <td>62 years 05 months</td>\n",
       "      <td>262000.0</td>\n",
       "    </tr>\n",
       "    <tr>\n",
       "      <th>3</th>\n",
       "      <td>2017-01</td>\n",
       "      <td>ANG MO KIO</td>\n",
       "      <td>3 ROOM</td>\n",
       "      <td>465</td>\n",
       "      <td>ANG MO KIO AVE 10</td>\n",
       "      <td>04 TO 06</td>\n",
       "      <td>68.0</td>\n",
       "      <td>New Generation</td>\n",
       "      <td>1980</td>\n",
       "      <td>62 years 01 month</td>\n",
       "      <td>265000.0</td>\n",
       "    </tr>\n",
       "    <tr>\n",
       "      <th>4</th>\n",
       "      <td>2017-01</td>\n",
       "      <td>ANG MO KIO</td>\n",
       "      <td>3 ROOM</td>\n",
       "      <td>601</td>\n",
       "      <td>ANG MO KIO AVE 5</td>\n",
       "      <td>01 TO 03</td>\n",
       "      <td>67.0</td>\n",
       "      <td>New Generation</td>\n",
       "      <td>1980</td>\n",
       "      <td>62 years 05 months</td>\n",
       "      <td>265000.0</td>\n",
       "    </tr>\n",
       "    <tr>\n",
       "      <th>5</th>\n",
       "      <td>2017-01</td>\n",
       "      <td>ANG MO KIO</td>\n",
       "      <td>3 ROOM</td>\n",
       "      <td>150</td>\n",
       "      <td>ANG MO KIO AVE 5</td>\n",
       "      <td>01 TO 03</td>\n",
       "      <td>68.0</td>\n",
       "      <td>New Generation</td>\n",
       "      <td>1981</td>\n",
       "      <td>63 years</td>\n",
       "      <td>275000.0</td>\n",
       "    </tr>\n",
       "    <tr>\n",
       "      <th>6</th>\n",
       "      <td>2017-01</td>\n",
       "      <td>ANG MO KIO</td>\n",
       "      <td>3 ROOM</td>\n",
       "      <td>447</td>\n",
       "      <td>ANG MO KIO AVE 10</td>\n",
       "      <td>04 TO 06</td>\n",
       "      <td>68.0</td>\n",
       "      <td>New Generation</td>\n",
       "      <td>1979</td>\n",
       "      <td>61 years 06 months</td>\n",
       "      <td>280000.0</td>\n",
       "    </tr>\n",
       "    <tr>\n",
       "      <th>7</th>\n",
       "      <td>2017-01</td>\n",
       "      <td>ANG MO KIO</td>\n",
       "      <td>3 ROOM</td>\n",
       "      <td>218</td>\n",
       "      <td>ANG MO KIO AVE 1</td>\n",
       "      <td>04 TO 06</td>\n",
       "      <td>67.0</td>\n",
       "      <td>New Generation</td>\n",
       "      <td>1976</td>\n",
       "      <td>58 years 04 months</td>\n",
       "      <td>285000.0</td>\n",
       "    </tr>\n",
       "    <tr>\n",
       "      <th>8</th>\n",
       "      <td>2017-01</td>\n",
       "      <td>ANG MO KIO</td>\n",
       "      <td>3 ROOM</td>\n",
       "      <td>447</td>\n",
       "      <td>ANG MO KIO AVE 10</td>\n",
       "      <td>04 TO 06</td>\n",
       "      <td>68.0</td>\n",
       "      <td>New Generation</td>\n",
       "      <td>1979</td>\n",
       "      <td>61 years 06 months</td>\n",
       "      <td>285000.0</td>\n",
       "    </tr>\n",
       "    <tr>\n",
       "      <th>9</th>\n",
       "      <td>2017-01</td>\n",
       "      <td>ANG MO KIO</td>\n",
       "      <td>3 ROOM</td>\n",
       "      <td>571</td>\n",
       "      <td>ANG MO KIO AVE 3</td>\n",
       "      <td>01 TO 03</td>\n",
       "      <td>67.0</td>\n",
       "      <td>New Generation</td>\n",
       "      <td>1979</td>\n",
       "      <td>61 years 04 months</td>\n",
       "      <td>285000.0</td>\n",
       "    </tr>\n",
       "  </tbody>\n",
       "</table>\n",
       "</div>"
      ],
      "text/plain": [
       "     month        town flat_type block        street_name storey_range  \\\n",
       "0  2017-01  ANG MO KIO    2 ROOM   406  ANG MO KIO AVE 10     10 TO 12   \n",
       "1  2017-01  ANG MO KIO    3 ROOM   108   ANG MO KIO AVE 4     01 TO 03   \n",
       "2  2017-01  ANG MO KIO    3 ROOM   602   ANG MO KIO AVE 5     01 TO 03   \n",
       "3  2017-01  ANG MO KIO    3 ROOM   465  ANG MO KIO AVE 10     04 TO 06   \n",
       "4  2017-01  ANG MO KIO    3 ROOM   601   ANG MO KIO AVE 5     01 TO 03   \n",
       "5  2017-01  ANG MO KIO    3 ROOM   150   ANG MO KIO AVE 5     01 TO 03   \n",
       "6  2017-01  ANG MO KIO    3 ROOM   447  ANG MO KIO AVE 10     04 TO 06   \n",
       "7  2017-01  ANG MO KIO    3 ROOM   218   ANG MO KIO AVE 1     04 TO 06   \n",
       "8  2017-01  ANG MO KIO    3 ROOM   447  ANG MO KIO AVE 10     04 TO 06   \n",
       "9  2017-01  ANG MO KIO    3 ROOM   571   ANG MO KIO AVE 3     01 TO 03   \n",
       "\n",
       "   floor_area_sqm      flat_model  lease_commence_date     remaining_lease  \\\n",
       "0            44.0        Improved                 1979  61 years 04 months   \n",
       "1            67.0  New Generation                 1978  60 years 07 months   \n",
       "2            67.0  New Generation                 1980  62 years 05 months   \n",
       "3            68.0  New Generation                 1980   62 years 01 month   \n",
       "4            67.0  New Generation                 1980  62 years 05 months   \n",
       "5            68.0  New Generation                 1981            63 years   \n",
       "6            68.0  New Generation                 1979  61 years 06 months   \n",
       "7            67.0  New Generation                 1976  58 years 04 months   \n",
       "8            68.0  New Generation                 1979  61 years 06 months   \n",
       "9            67.0  New Generation                 1979  61 years 04 months   \n",
       "\n",
       "   resale_price  \n",
       "0      232000.0  \n",
       "1      250000.0  \n",
       "2      262000.0  \n",
       "3      265000.0  \n",
       "4      265000.0  \n",
       "5      275000.0  \n",
       "6      280000.0  \n",
       "7      285000.0  \n",
       "8      285000.0  \n",
       "9      285000.0  "
      ]
     },
     "execution_count": 40,
     "metadata": {},
     "output_type": "execute_result"
    }
   ],
   "source": [
    "# First, we observe the dataset and determine which dataset is relevant to our analysis.\n",
    "hdb_df = pd.read_csv(r\"/Users/mahesh/Downloads/ResaleflatpricesbasedonregistrationdatefromJan2017onwards-2.csv\")\n",
    "hdb_df.head(10)"
   ]
  },
  {
   "cell_type": "code",
   "execution_count": 41,
   "id": "3e4b04c4",
   "metadata": {},
   "outputs": [],
   "source": [
    "# In my analysis, I do not consider street name, block and  flat model is relevant (town is sufficient for analysis, as no description of impact of the address, e.g., near MRT or not). Some information in flat model are either similar to room type (2 room, multi generation, etc.) or it reflected how old the unit is, which can be represented by lease commence date and remaining lease.Therefore. I will drop this column for my analysis\n",
    "hdb_df = hdb_df.drop(['month','street_name','flat_model','lease_commence_date', 'block'],axis=1)"
   ]
  },
  {
   "cell_type": "code",
   "execution_count": 42,
   "id": "9c85d7c7",
   "metadata": {},
   "outputs": [],
   "source": [
    "# Let's rename the column so it will be clearer\n",
    "hdb_df = hdb_df.rename(columns={'flat_type':'number_of_rooms','storey_range':'storey'})"
   ]
  },
  {
   "cell_type": "code",
   "execution_count": 43,
   "id": "90b3c1cc",
   "metadata": {},
   "outputs": [],
   "source": [
    "# I assume EXECUTIVE is equal to a 6 room (5 room + 1 study room). MULTI-GENERATION is equal to a 5 room (it served the same purpose).\n",
    "hdb_df['number_of_rooms'] = hdb_df['number_of_rooms'].str.replace(r'EXECUTIVE','6 ROOM',regex=True)\n",
    "hdb_df['number_of_rooms'] = hdb_df['number_of_rooms'].str.replace(r'MULTI-GENERATION','5 ROOM',regex=True)\n",
    "hdb_df['number_of_rooms'] = hdb_df['number_of_rooms'].str.replace(r'ROOM','',regex=True).astype('int')"
   ]
  },
  {
   "cell_type": "code",
   "execution_count": 44,
   "id": "544a43dd",
   "metadata": {},
   "outputs": [],
   "source": [
    "# I assume that rather we use floor range, I the possible highest floor within the unit storey range.\n",
    "hdb_df['storey'] = hdb_df['storey'].str[-2:].astype('int')"
   ]
  },
  {
   "cell_type": "code",
   "execution_count": 45,
   "id": "b41135be",
   "metadata": {},
   "outputs": [
    {
     "data": {
      "text/html": [
       "<div>\n",
       "<style scoped>\n",
       "    .dataframe tbody tr th:only-of-type {\n",
       "        vertical-align: middle;\n",
       "    }\n",
       "\n",
       "    .dataframe tbody tr th {\n",
       "        vertical-align: top;\n",
       "    }\n",
       "\n",
       "    .dataframe thead th {\n",
       "        text-align: right;\n",
       "    }\n",
       "</style>\n",
       "<table border=\"1\" class=\"dataframe\">\n",
       "  <thead>\n",
       "    <tr style=\"text-align: right;\">\n",
       "      <th></th>\n",
       "      <th>town</th>\n",
       "      <th>number_of_rooms</th>\n",
       "      <th>storey</th>\n",
       "      <th>floor_area_sqm</th>\n",
       "      <th>remaining_lease</th>\n",
       "      <th>resale_price</th>\n",
       "    </tr>\n",
       "  </thead>\n",
       "  <tbody>\n",
       "    <tr>\n",
       "      <th>0</th>\n",
       "      <td>ANG MO KIO</td>\n",
       "      <td>2</td>\n",
       "      <td>12</td>\n",
       "      <td>44.0</td>\n",
       "      <td>61.333333</td>\n",
       "      <td>232000.0</td>\n",
       "    </tr>\n",
       "    <tr>\n",
       "      <th>1</th>\n",
       "      <td>ANG MO KIO</td>\n",
       "      <td>3</td>\n",
       "      <td>3</td>\n",
       "      <td>67.0</td>\n",
       "      <td>60.583333</td>\n",
       "      <td>250000.0</td>\n",
       "    </tr>\n",
       "    <tr>\n",
       "      <th>2</th>\n",
       "      <td>ANG MO KIO</td>\n",
       "      <td>3</td>\n",
       "      <td>3</td>\n",
       "      <td>67.0</td>\n",
       "      <td>62.416667</td>\n",
       "      <td>262000.0</td>\n",
       "    </tr>\n",
       "    <tr>\n",
       "      <th>3</th>\n",
       "      <td>ANG MO KIO</td>\n",
       "      <td>3</td>\n",
       "      <td>6</td>\n",
       "      <td>68.0</td>\n",
       "      <td>62.083333</td>\n",
       "      <td>265000.0</td>\n",
       "    </tr>\n",
       "    <tr>\n",
       "      <th>4</th>\n",
       "      <td>ANG MO KIO</td>\n",
       "      <td>3</td>\n",
       "      <td>3</td>\n",
       "      <td>67.0</td>\n",
       "      <td>62.416667</td>\n",
       "      <td>265000.0</td>\n",
       "    </tr>\n",
       "  </tbody>\n",
       "</table>\n",
       "</div>"
      ],
      "text/plain": [
       "         town  number_of_rooms  storey  floor_area_sqm  remaining_lease  \\\n",
       "0  ANG MO KIO                2      12            44.0        61.333333   \n",
       "1  ANG MO KIO                3       3            67.0        60.583333   \n",
       "2  ANG MO KIO                3       3            67.0        62.416667   \n",
       "3  ANG MO KIO                3       6            68.0        62.083333   \n",
       "4  ANG MO KIO                3       3            67.0        62.416667   \n",
       "\n",
       "   resale_price  \n",
       "0      232000.0  \n",
       "1      250000.0  \n",
       "2      262000.0  \n",
       "3      265000.0  \n",
       "4      265000.0  "
      ]
     },
     "execution_count": 45,
     "metadata": {},
     "output_type": "execute_result"
    }
   ],
   "source": [
    " # I revise the format of the data in the remaining lease to be quantifiable (change to float).\n",
    "hdb_df['remaining_lease'] = hdb_df['remaining_lease'].str.split(' ')\n",
    "hdb_df['remaining_lease'] = hdb_df['remaining_lease'].apply(lambda x: (float(x[0])+(float(x[2])/12)) if (len(x)==4) else float(x[0]))\n",
    "hdb_df.head()"
   ]
  },
  {
   "cell_type": "code",
   "execution_count": 46,
   "id": "6deae52d",
   "metadata": {},
   "outputs": [
    {
     "name": "stdout",
     "output_type": "stream",
     "text": [
      "<class 'pandas.core.frame.DataFrame'>\n",
      "RangeIndex: 182868 entries, 0 to 182867\n",
      "Data columns (total 6 columns):\n",
      " #   Column           Non-Null Count   Dtype  \n",
      "---  ------           --------------   -----  \n",
      " 0   town             182868 non-null  object \n",
      " 1   number_of_rooms  182868 non-null  int64  \n",
      " 2   storey           182868 non-null  int64  \n",
      " 3   floor_area_sqm   182868 non-null  float64\n",
      " 4   remaining_lease  182868 non-null  float64\n",
      " 5   resale_price     182868 non-null  float64\n",
      "dtypes: float64(3), int64(2), object(1)\n",
      "memory usage: 8.4+ MB\n"
     ]
    }
   ],
   "source": [
    "# Observe whether there is missing data or not.\n",
    "hdb_df.info()"
   ]
  },
  {
   "cell_type": "code",
   "execution_count": 47,
   "id": "07bf8d0e",
   "metadata": {},
   "outputs": [
    {
     "data": {
      "text/plain": [
       "town               0\n",
       "number_of_rooms    0\n",
       "storey             0\n",
       "floor_area_sqm     0\n",
       "remaining_lease    0\n",
       "resale_price       0\n",
       "dtype: int64"
      ]
     },
     "execution_count": 47,
     "metadata": {},
     "output_type": "execute_result"
    }
   ],
   "source": [
    "hdb_df.isna().sum()"
   ]
  },
  {
   "cell_type": "code",
   "execution_count": 48,
   "id": "b5411b31",
   "metadata": {},
   "outputs": [
    {
     "name": "stderr",
     "output_type": "stream",
     "text": [
      "/Users/mahesh/anaconda3/lib/python3.11/site-packages/seaborn/axisgrid.py:118: UserWarning: The figure layout has changed to tight\n",
      "  self._figure.tight_layout(*args, **kwargs)\n"
     ]
    },
    {
     "data": {
      "text/plain": [
       "<seaborn.axisgrid.FacetGrid at 0x14cadff10>"
      ]
     },
     "execution_count": 48,
     "metadata": {},
     "output_type": "execute_result"
    },
    {
     "data": {
      "image/png": "[encoded data removed]",
      "text/plain": [
       "<Figure size 500x500 with 1 Axes>"
      ]
     },
     "metadata": {},
     "output_type": "display_data"
    }
   ],
   "source": [
    "# First, we want to se ethe distribution of HDB resale price in Singapore\n",
    "sns.displot(hdb_df['resale_price'])"
   ]
  },
  {
   "cell_type": "code",
   "execution_count": 49,
   "id": "16154153",
   "metadata": {},
   "outputs": [
    {
     "data": {
      "text/html": [
       "<div>\n",
       "<style scoped>\n",
       "    .dataframe tbody tr th:only-of-type {\n",
       "        vertical-align: middle;\n",
       "    }\n",
       "\n",
       "    .dataframe tbody tr th {\n",
       "        vertical-align: top;\n",
       "    }\n",
       "\n",
       "    .dataframe thead th {\n",
       "        text-align: right;\n",
       "    }\n",
       "</style>\n",
       "<table border=\"1\" class=\"dataframe\">\n",
       "  <thead>\n",
       "    <tr style=\"text-align: right;\">\n",
       "      <th></th>\n",
       "      <th>number_of_rooms</th>\n",
       "      <th>storey</th>\n",
       "      <th>floor_area_sqm</th>\n",
       "      <th>remaining_lease</th>\n",
       "      <th>resale_price</th>\n",
       "    </tr>\n",
       "  </thead>\n",
       "  <tbody>\n",
       "    <tr>\n",
       "      <th>count</th>\n",
       "      <td>182868.000000</td>\n",
       "      <td>182868.000000</td>\n",
       "      <td>182868.000000</td>\n",
       "      <td>182868.000000</td>\n",
       "      <td>1.828680e+05</td>\n",
       "    </tr>\n",
       "    <tr>\n",
       "      <th>mean</th>\n",
       "      <td>4.123548</td>\n",
       "      <td>9.760516</td>\n",
       "      <td>97.131983</td>\n",
       "      <td>74.592660</td>\n",
       "      <td>4.989118e+05</td>\n",
       "    </tr>\n",
       "    <tr>\n",
       "      <th>std</th>\n",
       "      <td>0.917760</td>\n",
       "      <td>5.935434</td>\n",
       "      <td>24.028763</td>\n",
       "      <td>13.968508</td>\n",
       "      <td>1.732388e+05</td>\n",
       "    </tr>\n",
       "    <tr>\n",
       "      <th>min</th>\n",
       "      <td>1.000000</td>\n",
       "      <td>3.000000</td>\n",
       "      <td>31.000000</td>\n",
       "      <td>41.500000</td>\n",
       "      <td>1.400000e+05</td>\n",
       "    </tr>\n",
       "    <tr>\n",
       "      <th>25%</th>\n",
       "      <td>3.000000</td>\n",
       "      <td>6.000000</td>\n",
       "      <td>82.000000</td>\n",
       "      <td>63.166667</td>\n",
       "      <td>3.700000e+05</td>\n",
       "    </tr>\n",
       "    <tr>\n",
       "      <th>50%</th>\n",
       "      <td>4.000000</td>\n",
       "      <td>9.000000</td>\n",
       "      <td>93.000000</td>\n",
       "      <td>74.500000</td>\n",
       "      <td>4.690000e+05</td>\n",
       "    </tr>\n",
       "    <tr>\n",
       "      <th>75%</th>\n",
       "      <td>5.000000</td>\n",
       "      <td>12.000000</td>\n",
       "      <td>112.000000</td>\n",
       "      <td>88.416667</td>\n",
       "      <td>5.950000e+05</td>\n",
       "    </tr>\n",
       "    <tr>\n",
       "      <th>max</th>\n",
       "      <td>6.000000</td>\n",
       "      <td>51.000000</td>\n",
       "      <td>249.000000</td>\n",
       "      <td>97.750000</td>\n",
       "      <td>1.588000e+06</td>\n",
       "    </tr>\n",
       "  </tbody>\n",
       "</table>\n",
       "</div>"
      ],
      "text/plain": [
       "       number_of_rooms         storey  floor_area_sqm  remaining_lease  \\\n",
       "count    182868.000000  182868.000000   182868.000000    182868.000000   \n",
       "mean          4.123548       9.760516       97.131983        74.592660   \n",
       "std           0.917760       5.935434       24.028763        13.968508   \n",
       "min           1.000000       3.000000       31.000000        41.500000   \n",
       "25%           3.000000       6.000000       82.000000        63.166667   \n",
       "50%           4.000000       9.000000       93.000000        74.500000   \n",
       "75%           5.000000      12.000000      112.000000        88.416667   \n",
       "max           6.000000      51.000000      249.000000        97.750000   \n",
       "\n",
       "       resale_price  \n",
       "count  1.828680e+05  \n",
       "mean   4.989118e+05  \n",
       "std    1.732388e+05  \n",
       "min    1.400000e+05  \n",
       "25%    3.700000e+05  \n",
       "50%    4.690000e+05  \n",
       "75%    5.950000e+05  \n",
       "max    1.588000e+06  "
      ]
     },
     "execution_count": 49,
     "metadata": {},
     "output_type": "execute_result"
    }
   ],
   "source": [
    "# Let see the statistic information of the data\n",
    "hdb_df.describe()"
   ]
  },
  {
   "cell_type": "code",
   "execution_count": 50,
   "id": "cf252587",
   "metadata": {},
   "outputs": [
    {
     "data": {
      "text/plain": [
       "<Axes: >"
      ]
     },
     "execution_count": 50,
     "metadata": {},
     "output_type": "execute_result"
    },
    {
     "data": {
      "image/png": "[encoded data removed]",
      "text/plain": [
       "<Figure size 640x480 with 2 Axes>"
      ]
     },
     "metadata": {},
     "output_type": "display_data"
    }
   ],
   "source": [
    "# Let us see the relation between each parameters\n",
    "sns.heatmap(hdb_df.describe(), cmap=\"YlGnBu\")"
   ]
  },
  {
   "cell_type": "code",
   "execution_count": 51,
   "id": "195ae521",
   "metadata": {},
   "outputs": [
    {
     "data": {
      "text/plain": [
       "array(['ANG MO KIO', 'BEDOK', 'BISHAN', 'BUKIT BATOK', 'BUKIT MERAH',\n",
       "       'BUKIT PANJANG', 'BUKIT TIMAH', 'CENTRAL AREA', 'CHOA CHU KANG',\n",
       "       'CLEMENTI', 'GEYLANG', 'HOUGANG', 'JURONG EAST', 'JURONG WEST',\n",
       "       'KALLANG/WHAMPOA', 'MARINE PARADE', 'PASIR RIS', 'PUNGGOL',\n",
       "       'QUEENSTOWN', 'SEMBAWANG', 'SENGKANG', 'SERANGOON', 'TAMPINES',\n",
       "       'TOA PAYOH', 'WOODLANDS', 'YISHUN'], dtype=object)"
      ]
     },
     "execution_count": 51,
     "metadata": {},
     "output_type": "execute_result"
    }
   ],
   "source": [
    "hdb_df['town'].unique()"
   ]
  },
  {
   "cell_type": "code",
   "execution_count": 52,
   "id": "9b1a512f",
   "metadata": {},
   "outputs": [],
   "source": [
    "hdb_df = hdb_df.replace(dict.fromkeys(['SEMBAWANG','SENGKANG','WOODLANDS','YISHUN'], 'NORTH'))\n",
    "hdb_df = hdb_df.replace(dict.fromkeys(['BUKIT MERAH','BUKIT TIMAH','QUEENSTOWN'], 'SOUTH'))\n",
    "hdb_df = hdb_df.replace(dict.fromkeys(['BEDOK','GEYLANG','HOUGANG','KALLANG/WHAMPOA','PASIR RIS','PUNGGOL','SERANGOON','TAMPINES'], 'EAST'))\n",
    "hdb_df = hdb_df.replace(dict.fromkeys(['BUKIT BATOK','BUKIT PANJANG','CHOA CHU KANG','CLEMENTI','JURONG EAST','JURONG WEST'], 'WEST'))\n",
    "hdb_df = hdb_df.replace(dict.fromkeys(['ANG MO KIO','CENTRAL AREA','BISHAN','MARINE PARADE','TOA PAYOH'], 'CENTRAL'))"
   ]
  },
  {
   "cell_type": "code",
   "execution_count": 53,
   "id": "c7edba11",
   "metadata": {},
   "outputs": [
    {
     "data": {
      "text/plain": [
       "array(['CENTRAL', 'EAST', 'WEST', 'SOUTH', 'NORTH'], dtype=object)"
      ]
     },
     "execution_count": 53,
     "metadata": {},
     "output_type": "execute_result"
    }
   ],
   "source": [
    "# Let's check whether the data replacement was done properly\n",
    "hdb_df['town'].unique()"
   ]
  },
  {
   "cell_type": "code",
   "execution_count": 54,
   "id": "582b640a",
   "metadata": {},
   "outputs": [],
   "source": [
    "hdb_df = hdb_df.rename(columns={'town':'region'})"
   ]
  },
  {
   "cell_type": "code",
   "execution_count": 55,
   "id": "623b6c1a",
   "metadata": {},
   "outputs": [],
   "source": [
    "X = hdb_df.iloc[:,:-1].values\n",
    "y = hdb_df.iloc[:,-1].values"
   ]
  },
  {
   "cell_type": "code",
   "execution_count": 56,
   "id": "e1a60d59",
   "metadata": {},
   "outputs": [],
   "source": [
    "from sklearn.compose import ColumnTransformer\n",
    "from sklearn.preprocessing import OneHotEncoder\n",
    "ct = ColumnTransformer(transformers=[('encoder', OneHotEncoder(), [0])], remainder='passthrough')\n",
    "X = np.array(ct.fit_transform(X))"
   ]
  },
  {
   "cell_type": "code",
   "execution_count": 57,
   "id": "7fe9c342",
   "metadata": {},
   "outputs": [
    {
     "data": {
      "text/plain": [
       "array([1.0, 0.0, 0.0, 0.0, 0.0, 3, 3, 67.0, 60.583333333333336],\n",
       "      dtype=object)"
      ]
     },
     "execution_count": 57,
     "metadata": {},
     "output_type": "execute_result"
    }
   ],
   "source": [
    "X[1,:]"
   ]
  },
  {
   "cell_type": "code",
   "execution_count": 58,
   "id": "56221e0e",
   "metadata": {},
   "outputs": [],
   "source": [
    "from sklearn.model_selection import train_test_split\n",
    "X_train, X_test, y_train, y_test = train_test_split(X, y, test_size = 0.2)"
   ]
  },
  {
   "cell_type": "code",
   "execution_count": 59,
   "id": "78afea61",
   "metadata": {},
   "outputs": [],
   "source": [
    "# Import neccessary library to evaluate the performance of each machine learning model\n",
    "from sklearn.metrics import r2_score,mean_absolute_error, mean_squared_error"
   ]
  },
  {
   "cell_type": "code",
   "execution_count": 60,
   "id": "263b79e5",
   "metadata": {},
   "outputs": [
    {
     "data": {
      "text/plain": [
       "0.6431845469727229"
      ]
     },
     "execution_count": 60,
     "metadata": {},
     "output_type": "execute_result"
    }
   ],
   "source": [
    "from sklearn.linear_model import LinearRegression\n",
    "mlr = LinearRegression()\n",
    "mlr.fit(X_train, y_train)\n",
    "mlr_ypred = mlr.predict(X_test)\n",
    "mlr_acc = r2_score(y_test,mlr_ypred)\n",
    "mlr_acc"
   ]
  },
  {
   "cell_type": "code",
   "execution_count": 61,
   "id": "a5b03ce2",
   "metadata": {},
   "outputs": [
    {
     "name": "stdout",
     "output_type": "stream",
     "text": [
      "The accuracy of polynomial regression with degree of 2 is 0.7106754837609386\n",
      "The RMSE of polynomial regression with degree of 2 is 93003.67434946228\n",
      "The accuracy of polynomial regression with degree of 3 is 0.7245093204518454\n",
      "The RMSE of polynomial regression with degree of 3 is 90752.99035267146\n",
      "The accuracy of polynomial regression with degree of 4 is 0.7342435678112872\n",
      "The RMSE of polynomial regression with degree of 4 is 89135.22833492256\n"
     ]
    }
   ],
   "source": [
    "from sklearn.preprocessing import PolynomialFeatures\n",
    "from sklearn.linear_model import LinearRegression\n",
    "# Let's determine the best degree for polynomial\n",
    "for n in range(2,5):\n",
    "    poly_reg = PolynomialFeatures(degree = n)\n",
    "    X_poly = poly_reg.fit_transform(X_train)\n",
    "    pr = LinearRegression()\n",
    "    pr.fit(X_poly, y_train)\n",
    "    poly_ypred = pr.predict(poly_reg.transform(X_test))\n",
    "    poly_acc = r2_score(y_test,poly_ypred)\n",
    "    poly_rmse = np.sqrt(mean_squared_error(y_test,poly_ypred))\n",
    "    print(r'The accuracy of polynomial regression with degree of {} is {}'.format(n,poly_acc))\n",
    "    print(r'The RMSE of polynomial regression with degree of {} is {}'.format(n,poly_rmse))"
   ]
  },
  {
   "cell_type": "code",
   "execution_count": 62,
   "id": "b813d117",
   "metadata": {},
   "outputs": [
    {
     "data": {
      "text/plain": [
       "0.6431841640720752"
      ]
     },
     "execution_count": 62,
     "metadata": {},
     "output_type": "execute_result"
    }
   ],
   "source": [
    "from sklearn.linear_model import Ridge\n",
    "ridge_r = Ridge()\n",
    "ridge_r.fit(X_train, y_train)\n",
    "ridge_ypred = ridge_r.predict(X_test)\n",
    "ridge_acc = r2_score(y_test,ridge_ypred)\n",
    "ridge_acc"
   ]
  },
  {
   "cell_type": "code",
   "execution_count": 64,
   "id": "dc9cfeea",
   "metadata": {},
   "outputs": [
    {
     "data": {
      "text/plain": [
       "0.6431839230635639"
      ]
     },
     "execution_count": 64,
     "metadata": {},
     "output_type": "execute_result"
    }
   ],
   "source": [
    "from sklearn.linear_model import Lasso\n",
    "lasso_r = Lasso(max_iter=100000)\n",
    "lasso_r.fit(X_train, y_train)\n",
    "lasso_ypred = lasso_r.predict(X_test)\n",
    "lasso_acc = r2_score(y_test,lasso_ypred)\n",
    "lasso_acc"
   ]
  },
  {
   "cell_type": "code",
   "execution_count": 65,
   "id": "ddcea3a9",
   "metadata": {},
   "outputs": [
    {
     "data": {
      "text/plain": [
       "0.5521825791955985"
      ]
     },
     "execution_count": 65,
     "metadata": {},
     "output_type": "execute_result"
    }
   ],
   "source": [
    "from sklearn.linear_model import ElasticNet\n",
    "EN_r = ElasticNet()\n",
    "EN_r.fit(X_train, y_train)\n",
    "EN_ypred = EN_r.predict(X_test)\n",
    "EN_acc = r2_score(y_test,EN_ypred)\n",
    "EN_acc"
   ]
  },
  {
   "cell_type": "code",
   "execution_count": 66,
   "id": "37af777f",
   "metadata": {},
   "outputs": [
    {
     "data": {
      "text/plain": [
       "0.7224072811754798"
      ]
     },
     "execution_count": 66,
     "metadata": {},
     "output_type": "execute_result"
    }
   ],
   "source": [
    "from sklearn.tree import DecisionTreeRegressor\n",
    "tree_r = DecisionTreeRegressor()\n",
    "tree_r.fit(X_train, y_train)\n",
    "tree_ypred = tree_r.predict(X_test)\n",
    "tree_acc = r2_score(y_test,tree_ypred)\n",
    "tree_acc"
   ]
  },
  {
   "cell_type": "code",
   "execution_count": 67,
   "id": "2137fa74",
   "metadata": {},
   "outputs": [
    {
     "data": {
      "text/plain": [
       "0.7880842951294325"
      ]
     },
     "execution_count": 67,
     "metadata": {},
     "output_type": "execute_result"
    }
   ],
   "source": [
    "from sklearn.ensemble import RandomForestRegressor\n",
    "forest_r = RandomForestRegressor(n_estimators = 10)\n",
    "forest_r.fit(X_train, y_train)\n",
    "forest_ypred = forest_r.predict(X_test)\n",
    "forest_acc = r2_score(y_test,forest_ypred)\n",
    "forest_acc"
   ]
  },
  {
   "cell_type": "code",
   "execution_count": 68,
   "id": "11efa051",
   "metadata": {},
   "outputs": [
    {
     "data": {
      "image/png": "[encoded data removed]",
      "text/plain": [
       "<Figure size 1500x1000 with 2 Axes>"
      ]
     },
     "metadata": {},
     "output_type": "display_data"
    }
   ],
   "source": [
    "# Accuracy score for multi linear regression\n",
    "mlr_acc = r2_score(y_test,mlr_ypred)\n",
    "mlr_rmse = np.sqrt(mean_squared_error(y_test,mlr_ypred))\n",
    "# Evaluation for polynomial regression has been calculated in finding the best degree\n",
    "# Evaluation for ridge regression\n",
    "ridge_acc = r2_score(y_test,ridge_ypred)\n",
    "ridge_rmse = np.sqrt(mean_squared_error(y_test,ridge_ypred))\n",
    "# Evaluation for lasso regression\n",
    "lasso_acc = r2_score(y_test,lasso_ypred)\n",
    "lasso_rmse = np.sqrt(mean_squared_error(y_test,lasso_ypred))\n",
    "# Evaluation for elastic net regression\n",
    "EN_acc = r2_score(y_test,EN_ypred)\n",
    "EN_rmse = np.sqrt(mean_squared_error(y_test,EN_ypred))\n",
    "# Evaluation for decision trees regression\n",
    "tree_acc = r2_score(y_test,tree_ypred)\n",
    "tree_rmse = np.sqrt(mean_squared_error(y_test,tree_ypred))\n",
    "# Evaluation for elastic random forest regression\n",
    "forest_acc = r2_score(y_test,forest_ypred)\n",
    "forest_rmse = np.sqrt(mean_squared_error(y_test,forest_ypred))\n",
    "# Let's put it as a list and compare it in a bar chart\n",
    "model_acc_score = [mlr_acc,poly_acc, ridge_acc, lasso_acc, EN_acc, tree_acc, forest_acc]\n",
    "model_rmse = [mlr_rmse, poly_rmse, ridge_rmse, lasso_rmse, EN_rmse, tree_rmse, forest_rmse]\n",
    "model_list = ['Multi Linear', 'Polynomial', 'Ridge', 'Lasso', 'Elastic Net', 'Decision Tree', 'Random Forest']\n",
    "model_result_df = pd.DataFrame(\n",
    "    {'Model': model_list,\n",
    "     'Accuracy score': model_acc_score,\n",
    "     'RMSE': model_rmse\n",
    "    })\n",
    "fig, (ax1, ax2) = plt.subplots(1, 2, figsize=(15,10))\n",
    "sns.barplot(data=model_result_df, x='Model', y='Accuracy score', ax=ax1,order=model_result_df.sort_values('Accuracy score',ascending = False).Model).set_title(\"Comparison of accuracy score between ML regression models\")\n",
    "ax1 = ax1.set_xticklabels(ax1.get_xticklabels(), rotation=90)\n",
    "sns.barplot(data=model_result_df, x='Model', y='RMSE', ax=ax2, order=model_result_df.sort_values('RMSE').Model).set_title(\"Comparison of RMSE between ML regression models\")\n",
    "ax2 = ax2.set_xticklabels(ax2.get_xticklabels(), rotation=90)"
   ]
  },
  {
   "cell_type": "code",
   "execution_count": 69,
   "id": "ad36d1bc",
   "metadata": {},
   "outputs": [
    {
     "data": {
      "text/html": [
       "<div>\n",
       "<style scoped>\n",
       "    .dataframe tbody tr th:only-of-type {\n",
       "        vertical-align: middle;\n",
       "    }\n",
       "\n",
       "    .dataframe tbody tr th {\n",
       "        vertical-align: top;\n",
       "    }\n",
       "\n",
       "    .dataframe thead th {\n",
       "        text-align: right;\n",
       "    }\n",
       "</style>\n",
       "<table border=\"1\" class=\"dataframe\">\n",
       "  <thead>\n",
       "    <tr style=\"text-align: right;\">\n",
       "      <th></th>\n",
       "      <th>Area</th>\n",
       "      <th>Predicted HDB price (SGD)</th>\n",
       "    </tr>\n",
       "  </thead>\n",
       "  <tbody>\n",
       "    <tr>\n",
       "      <th>0</th>\n",
       "      <td>Central</td>\n",
       "      <td>758800.0</td>\n",
       "    </tr>\n",
       "    <tr>\n",
       "      <th>1</th>\n",
       "      <td>East</td>\n",
       "      <td>687566.0</td>\n",
       "    </tr>\n",
       "    <tr>\n",
       "      <th>2</th>\n",
       "      <td>North</td>\n",
       "      <td>500850.0</td>\n",
       "    </tr>\n",
       "    <tr>\n",
       "      <th>3</th>\n",
       "      <td>South</td>\n",
       "      <td>779900.0</td>\n",
       "    </tr>\n",
       "    <tr>\n",
       "      <th>4</th>\n",
       "      <td>West</td>\n",
       "      <td>531800.0</td>\n",
       "    </tr>\n",
       "  </tbody>\n",
       "</table>\n",
       "</div>"
      ],
      "text/plain": [
       "      Area  Predicted HDB price (SGD)\n",
       "0  Central                   758800.0\n",
       "1     East                   687566.0\n",
       "2    North                   500850.0\n",
       "3    South                   779900.0\n",
       "4     West                   531800.0"
      ]
     },
     "execution_count": 69,
     "metadata": {},
     "output_type": "execute_result"
    }
   ],
   "source": [
    "# We know that after One Hot Encoding, the value of Central, East, North, South, and West is one at column 1,2,3,4, and 5, respectively (following alphabetical order).\n",
    "area = ['Central','East','North','South','West']\n",
    "pred_price_central = forest_r.predict([[1.0, 0.0, 0.0, 0.0, 0.0, 4, 9, 95.0, 75]])[0]\n",
    "pred_price_east = forest_r.predict([[0.0, 1.0, 0.0, 0.0, 0.0, 4, 9, 95.0, 75]])[0]\n",
    "pred_price_north = forest_r.predict([[0.0, 0.0, 1.0, 0.0, 0.0, 4, 9, 95.0, 75]])[0]\n",
    "pred_price_south = forest_r.predict([[0.0, 0.0, 0.0, 1.0, 0.0, 4, 9, 95.0, 75]])[0]\n",
    "pred_price_west = forest_r.predict([[0.0, 0.0, 0.0, 0.0, 1.0, 4, 9, 95.0, 75]])[0]\n",
    "resale_price = [pred_price_central,pred_price_east,pred_price_north,pred_price_south,pred_price_west]\n",
    "predict_df = pd.DataFrame(list(zip(area, resale_price)),\n",
    "              columns=['Area','Predicted HDB price (SGD)'])\n",
    "predict_df.round()"
   ]
  },
  {
   "cell_type": "code",
   "execution_count": null,
   "id": "3a167587",
   "metadata": {},
   "outputs": [],
   "source": []
  }
 ],
 "metadata": {
  "kernelspec": {
   "display_name": "Python 3 (ipykernel)",
   "language": "python",
   "name": "python3"
  },
  "language_info": {
   "codemirror_mode": {
    "name": "ipython",
    "version": 3
   },
   "file_extension": ".py",
   "mimetype": "text/x-python",
   "name": "python",
   "nbconvert_exporter": "python",
   "pygments_lexer": "ipython3",
   "version": "3.11.5"
  }
 },
 "nbformat": 4,
 "nbformat_minor": 5
}
